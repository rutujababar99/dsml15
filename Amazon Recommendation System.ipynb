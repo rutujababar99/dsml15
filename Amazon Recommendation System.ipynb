{
 "cells": [
  {
   "cell_type": "code",
   "execution_count": 1,
   "id": "bb32ef9b",
   "metadata": {},
   "outputs": [],
   "source": [
    "import numpy as np\n",
    "import pandas as pd\n",
    "import matplotlib.pyplot as plt"
   ]
  },
  {
   "cell_type": "code",
   "execution_count": 2,
   "id": "af999161",
   "metadata": {},
   "outputs": [],
   "source": [
    "data= pd.read_csv('C:\\\\Users\\\\AZhar ALi\\\\Downloads\\\\ratings_electronics.csv')"
   ]
  },
  {
   "cell_type": "code",
   "execution_count": 3,
   "id": "0f5ef539",
   "metadata": {},
   "outputs": [
    {
     "data": {
      "text/html": [
       "<div>\n",
       "<style scoped>\n",
       "    .dataframe tbody tr th:only-of-type {\n",
       "        vertical-align: middle;\n",
       "    }\n",
       "\n",
       "    .dataframe tbody tr th {\n",
       "        vertical-align: top;\n",
       "    }\n",
       "\n",
       "    .dataframe thead th {\n",
       "        text-align: right;\n",
       "    }\n",
       "</style>\n",
       "<table border=\"1\" class=\"dataframe\">\n",
       "  <thead>\n",
       "    <tr style=\"text-align: right;\">\n",
       "      <th></th>\n",
       "      <th>AKM1MP6P0OYPR</th>\n",
       "      <th>132793040</th>\n",
       "      <th>5</th>\n",
       "      <th>1365811200</th>\n",
       "    </tr>\n",
       "  </thead>\n",
       "  <tbody>\n",
       "    <tr>\n",
       "      <th>0</th>\n",
       "      <td>A2CX7LUOHB2NDG</td>\n",
       "      <td>321732944</td>\n",
       "      <td>5</td>\n",
       "      <td>1341100800</td>\n",
       "    </tr>\n",
       "    <tr>\n",
       "      <th>1</th>\n",
       "      <td>A2NWSAGRHCP8N5</td>\n",
       "      <td>439886341</td>\n",
       "      <td>1</td>\n",
       "      <td>1367193600</td>\n",
       "    </tr>\n",
       "    <tr>\n",
       "      <th>2</th>\n",
       "      <td>A2WNBOD3WNDNKT</td>\n",
       "      <td>439886341</td>\n",
       "      <td>3</td>\n",
       "      <td>1374451200</td>\n",
       "    </tr>\n",
       "    <tr>\n",
       "      <th>3</th>\n",
       "      <td>A1GI0U4ZRJA8WN</td>\n",
       "      <td>439886341</td>\n",
       "      <td>1</td>\n",
       "      <td>1334707200</td>\n",
       "    </tr>\n",
       "    <tr>\n",
       "      <th>4</th>\n",
       "      <td>A1QGNMC6O1VW39</td>\n",
       "      <td>511189877</td>\n",
       "      <td>5</td>\n",
       "      <td>1397433600</td>\n",
       "    </tr>\n",
       "  </tbody>\n",
       "</table>\n",
       "</div>"
      ],
      "text/plain": [
       "    AKM1MP6P0OYPR  132793040  5  1365811200\n",
       "0  A2CX7LUOHB2NDG  321732944  5  1341100800\n",
       "1  A2NWSAGRHCP8N5  439886341  1  1367193600\n",
       "2  A2WNBOD3WNDNKT  439886341  3  1374451200\n",
       "3  A1GI0U4ZRJA8WN  439886341  1  1334707200\n",
       "4  A1QGNMC6O1VW39  511189877  5  1397433600"
      ]
     },
     "execution_count": 3,
     "metadata": {},
     "output_type": "execute_result"
    }
   ],
   "source": [
    "data.head()"
   ]
  },
  {
   "cell_type": "code",
   "execution_count": 4,
   "id": "61b9a897",
   "metadata": {},
   "outputs": [],
   "source": [
    "data.columns=['user_id','product_id','ratings','timestamp']"
   ]
  },
  {
   "cell_type": "code",
   "execution_count": 5,
   "id": "e4cb897b",
   "metadata": {},
   "outputs": [],
   "source": [
    "df = data[:int(len(data) * .1)]"
   ]
  },
  {
   "cell_type": "code",
   "execution_count": 6,
   "id": "aa4d97c7",
   "metadata": {},
   "outputs": [],
   "source": [
    "counts = df['user_id'].value_counts()"
   ]
  },
  {
   "cell_type": "code",
   "execution_count": 7,
   "id": "44a18276",
   "metadata": {},
   "outputs": [],
   "source": [
    "data = df[df['user_id'].isin(counts[counts >= 50].index)]"
   ]
  },
  {
   "cell_type": "code",
   "execution_count": 8,
   "id": "b69083dd",
   "metadata": {},
   "outputs": [
    {
     "data": {
      "text/plain": [
       "product_id\n",
       "B00000J1US    5.0\n",
       "B000051123    5.0\n",
       "B000050AQ7    5.0\n",
       "B00004ZCNS    5.0\n",
       "B00004ZCEX    5.0\n",
       "             ... \n",
       "B00004X0ZI    2.0\n",
       "B00004SP9W    2.0\n",
       "B00004S7T4    2.0\n",
       "B00005B4BN    1.0\n",
       "B00004WIMW    1.0\n",
       "Name: ratings, Length: 157, dtype: float64"
      ]
     },
     "execution_count": 8,
     "metadata": {},
     "output_type": "execute_result"
    }
   ],
   "source": [
    "data.groupby('product_id')['ratings'].mean().sort_values(ascending=False) "
   ]
  },
  {
   "cell_type": "code",
   "execution_count": 9,
   "id": "112ce2c2",
   "metadata": {},
   "outputs": [],
   "source": [
    "final_ratings = data.pivot(index = 'user_id', columns ='product_id', values = 'ratings').fillna(0)"
   ]
  },
  {
   "cell_type": "code",
   "execution_count": 10,
   "id": "b5f2c76b",
   "metadata": {},
   "outputs": [],
   "source": [
    "num_of_ratings = np.count_nonzero(final_ratings)"
   ]
  },
  {
   "cell_type": "code",
   "execution_count": 11,
   "id": "ddd25863",
   "metadata": {},
   "outputs": [],
   "source": [
    "possible_ratings = final_ratings.shape[0] * final_ratings.shape[1]"
   ]
  },
  {
   "cell_type": "code",
   "execution_count": 12,
   "id": "14b53dfe",
   "metadata": {},
   "outputs": [],
   "source": [
    "density = (num_of_ratings/possible_ratings)"
   ]
  },
  {
   "cell_type": "code",
   "execution_count": 13,
   "id": "4801b084",
   "metadata": {},
   "outputs": [],
   "source": [
    "density *= 100"
   ]
  },
  {
   "cell_type": "code",
   "execution_count": 14,
   "id": "1cc9e04e",
   "metadata": {},
   "outputs": [],
   "source": [
    "final_ratings_T = final_ratings.transpose()"
   ]
  },
  {
   "cell_type": "code",
   "execution_count": 15,
   "id": "630de9e1",
   "metadata": {},
   "outputs": [],
   "source": [
    "grouped = data.groupby('product_id').agg({'user_id': 'count'}).reset_index()"
   ]
  },
  {
   "cell_type": "code",
   "execution_count": 16,
   "id": "d6050e0d",
   "metadata": {},
   "outputs": [],
   "source": [
    "grouped.rename(columns = {'user_id': 'score'},inplace=True)"
   ]
  },
  {
   "cell_type": "code",
   "execution_count": 17,
   "id": "eedcc985",
   "metadata": {},
   "outputs": [],
   "source": [
    "training_data = grouped.sort_values(['score', 'product_id'], ascending = [0,1]) "
   ]
  },
  {
   "cell_type": "code",
   "execution_count": 18,
   "id": "252012c6",
   "metadata": {},
   "outputs": [],
   "source": [
    "training_data['Rank'] = training_data['score'].rank(ascending=0, method='first')"
   ]
  },
  {
   "cell_type": "code",
   "execution_count": 19,
   "id": "87d10dfb",
   "metadata": {},
   "outputs": [],
   "source": [
    "recommendations = training_data.head()"
   ]
  },
  {
   "cell_type": "code",
   "execution_count": 20,
   "id": "6694822d",
   "metadata": {},
   "outputs": [
    {
     "name": "stdout",
     "output_type": "stream",
     "text": [
      "     user_id  product_id  score  Rank\n",
      "38        11  B00004SYB7      2   1.0\n",
      "41        11  B00004TEN2      2   2.0\n",
      "71        11  B00004W3YX      2   3.0\n",
      "76        11  B00004X036      2   4.0\n",
      "109       11  B000051123      2   5.0\n"
     ]
    },
    {
     "name": "stderr",
     "output_type": "stream",
     "text": [
      "C:\\Users\\AZHARA~1\\AppData\\Local\\Temp/ipykernel_8796/18724662.py:3: SettingWithCopyWarning: \n",
      "A value is trying to be set on a copy of a slice from a DataFrame.\n",
      "Try using .loc[row_indexer,col_indexer] = value instead\n",
      "\n",
      "See the caveats in the documentation: https://pandas.pydata.org/pandas-docs/stable/user_guide/indexing.html#returning-a-view-versus-a-copy\n",
      "  recommend_products['user_id'] = id\n"
     ]
    }
   ],
   "source": [
    "def recommend(id):     \n",
    "    recommend_products = recommendations \n",
    "    recommend_products['user_id'] = id \n",
    "    column = recommend_products.columns.tolist() \n",
    "    column = column[-1:] + column[:-1] \n",
    "    recommend_products = recommend_products[column] \n",
    "    return recommend_products \n",
    "\n",
    "print(recommend(11))"
   ]
  },
  {
   "cell_type": "code",
   "execution_count": 23,
   "id": "335ec1ff",
   "metadata": {},
   "outputs": [
    {
     "ename": "NameError",
     "evalue": "name 'rank' is not defined",
     "output_type": "error",
     "traceback": [
      "\u001b[1;31m---------------------------------------------------------------------------\u001b[0m",
      "\u001b[1;31mNameError\u001b[0m                                 Traceback (most recent call last)",
      "\u001b[1;32mC:\\Users\\AZHARA~1\\AppData\\Local\\Temp/ipykernel_8796/3481721189.py\u001b[0m in \u001b[0;36m<module>\u001b[1;34m\u001b[0m\n\u001b[0;32m      1\u001b[0m \u001b[0mplt\u001b[0m\u001b[1;33m.\u001b[0m\u001b[0mfigure\u001b[0m\u001b[1;33m(\u001b[0m\u001b[0mfigsize\u001b[0m\u001b[1;33m=\u001b[0m\u001b[1;33m(\u001b[0m\u001b[1;36m10\u001b[0m\u001b[1;33m,\u001b[0m\u001b[1;36m4\u001b[0m\u001b[1;33m)\u001b[0m\u001b[1;33m)\u001b[0m\u001b[1;33m\u001b[0m\u001b[1;33m\u001b[0m\u001b[0m\n\u001b[1;32m----> 2\u001b[1;33m \u001b[0mrank\u001b[0m\u001b[1;33m[\u001b[0m\u001b[1;34m'rank'\u001b[0m\u001b[1;33m]\u001b[0m\u001b[1;33m.\u001b[0m\u001b[0mhist\u001b[0m\u001b[1;33m(\u001b[0m\u001b[0mbins\u001b[0m\u001b[1;33m=\u001b[0m\u001b[1;36m70\u001b[0m\u001b[1;33m)\u001b[0m\u001b[1;33m\u001b[0m\u001b[1;33m\u001b[0m\u001b[0m\n\u001b[0m",
      "\u001b[1;31mNameError\u001b[0m: name 'rank' is not defined"
     ]
    },
    {
     "data": {
      "text/plain": [
       "<Figure size 720x288 with 0 Axes>"
      ]
     },
     "metadata": {},
     "output_type": "display_data"
    }
   ],
   "source": [
    "plt.figure(figsize=(10,4))\n",
    "rank['rank'].hist(bins=70)"
   ]
  },
  {
   "cell_type": "code",
   "execution_count": null,
   "id": "c80bbdc1",
   "metadata": {},
   "outputs": [],
   "source": []
  }
 ],
 "metadata": {
  "kernelspec": {
   "display_name": "Python 3 (ipykernel)",
   "language": "python",
   "name": "python3"
  },
  "language_info": {
   "codemirror_mode": {
    "name": "ipython",
    "version": 3
   },
   "file_extension": ".py",
   "mimetype": "text/x-python",
   "name": "python",
   "nbconvert_exporter": "python",
   "pygments_lexer": "ipython3",
   "version": "3.9.7"
  }
 },
 "nbformat": 4,
 "nbformat_minor": 5
}
